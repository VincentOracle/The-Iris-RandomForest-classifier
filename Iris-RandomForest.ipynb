{
 "cells": [
  {
   "cell_type": "markdown",
   "id": "7fac579b",
   "metadata": {},
   "source": [
    "# Iris dataset Random Forest"
   ]
  },
  {
   "cell_type": "code",
   "execution_count": 1,
   "id": "48ceb1d0",
   "metadata": {},
   "outputs": [
    {
     "name": "stdout",
     "output_type": "stream",
     "text": [
      "Machine Learning with the Iris Dataset.\n",
      "Loading packages...\n",
      "Finished.\n"
     ]
    }
   ],
   "source": [
    "# Load the packages we will need for the calculations, the machine learning model we will use,\n",
    "# and for printing the classification tree.\n",
    "\n",
    "print(\"Machine Learning with the Iris Dataset.\\nLoading packages...\")\n",
    "\n",
    "import numpy as np\n",
    "import pandas as pd\n",
    "import matplotlib.pyplot as plt\n",
    "import time\n",
    "from sklearn import tree\n",
    "from sklearn.ensemble import RandomForestClassifier\n",
    "from sklearn import metrics\n",
    "\n",
    "#from numba import jit, cuda\n",
    "print(\"Finished.\")"
   ]
  },
  {
   "cell_type": "code",
   "execution_count": 2,
   "id": "385e5b64",
   "metadata": {},
   "outputs": [
    {
     "name": "stdout",
     "output_type": "stream",
     "text": [
      "0         Iris-setosa\n",
      "1         Iris-setosa\n",
      "2         Iris-setosa\n",
      "3         Iris-setosa\n",
      "4         Iris-setosa\n",
      "            ...      \n",
      "145    Iris-virginica\n",
      "146    Iris-virginica\n",
      "147    Iris-virginica\n",
      "148    Iris-virginica\n",
      "149    Iris-virginica\n",
      "Name: Species, Length: 150, dtype: object\n"
     ]
    }
   ],
   "source": [
    "# Load the Iris data.  The data is in the Iris.csv file, which should be in the directory (folder) of \n",
    "# this Jupyter Notebook.  The data is loaded into a Python dataframe we will call df.  Print the data.\n",
    "\n",
    "df = pd.read_csv('Data/Iris.csv')\n",
    "data_points = df.iloc[:, 1:5]\n",
    "labels = df.iloc[:, 5]\n",
    "print(labels)"
   ]
  },
  {
   "cell_type": "code",
   "execution_count": 3,
   "id": "625e74d7",
   "metadata": {},
   "outputs": [
    {
     "name": "stdout",
     "output_type": "stream",
     "text": [
      "Index(['SepalLengthCm', 'SepalWidthCm', 'PetalLengthCm', 'PetalWidthCm'], dtype='object')\n"
     ]
    }
   ],
   "source": [
    "# Get the data features.\n",
    "\n",
    "features = df.columns\n",
    "features = features[1:5]\n",
    "print(features)"
   ]
  },
  {
   "cell_type": "code",
   "execution_count": 4,
   "id": "9eee12d2",
   "metadata": {},
   "outputs": [
    {
     "name": "stdout",
     "output_type": "stream",
     "text": [
      "['Iris-setosa' 'Iris-versicolor' 'Iris-virginica']\n"
     ]
    }
   ],
   "source": [
    "# Get the classes of the data.\n",
    "\n",
    "dclass = df['Species']\n",
    "dclass = dclass.unique()\n",
    "print(dclass)"
   ]
  },
  {
   "cell_type": "code",
   "execution_count": 5,
   "id": "992a98dc",
   "metadata": {},
   "outputs": [
    {
     "name": "stdout",
     "output_type": "stream",
     "text": [
      "Split into train and test data...\n",
      "Train:\n",
      "     SepalLengthCm  SepalWidthCm  PetalLengthCm  PetalWidthCm\n",
      "110            6.5           3.2            5.1           2.0\n",
      "95             5.7           3.0            4.2           1.2\n",
      "59             5.2           2.7            3.9           1.4\n",
      "138            6.0           3.0            4.8           1.8\n",
      "77             6.7           3.0            5.0           1.7\n",
      "..             ...           ...            ...           ...\n",
      "2              4.7           3.2            1.3           0.2\n",
      "134            6.1           2.6            5.6           1.4\n",
      "148            6.2           3.4            5.4           2.3\n",
      "7              5.0           3.4            1.5           0.2\n",
      "58             6.6           2.9            4.6           1.3\n",
      "\n",
      "[105 rows x 4 columns]\n",
      "110     Iris-virginica\n",
      "95     Iris-versicolor\n",
      "59     Iris-versicolor\n",
      "138     Iris-virginica\n",
      "77     Iris-versicolor\n",
      "            ...       \n",
      "2          Iris-setosa\n",
      "134     Iris-virginica\n",
      "148     Iris-virginica\n",
      "7          Iris-setosa\n",
      "58     Iris-versicolor\n",
      "Name: Species, Length: 105, dtype: object\n",
      "Test:\n",
      "     SepalLengthCm  SepalWidthCm  PetalLengthCm  PetalWidthCm\n",
      "39             5.1           3.4            1.5           0.2\n",
      "139            6.9           3.1            5.4           2.1\n",
      "109            7.2           3.6            6.1           2.5\n",
      "22             4.6           3.6            1.0           0.2\n",
      "103            6.3           2.9            5.6           1.8\n",
      "75             6.6           3.0            4.4           1.4\n",
      "49             5.0           3.3            1.4           0.2\n",
      "97             6.2           2.9            4.3           1.3\n",
      "126            6.2           2.8            4.8           1.8\n",
      "29             4.7           3.2            1.6           0.2\n",
      "46             5.1           3.8            1.6           0.2\n",
      "87             6.3           2.3            4.4           1.3\n",
      "54             6.5           2.8            4.6           1.5\n",
      "4              5.0           3.6            1.4           0.2\n",
      "55             5.7           2.8            4.5           1.3\n",
      "43             5.0           3.5            1.6           0.6\n",
      "127            6.1           3.0            4.9           1.8\n",
      "15             5.7           4.4            1.5           0.4\n",
      "115            6.4           3.2            5.3           2.3\n",
      "122            7.7           2.8            6.7           2.0\n",
      "25             5.0           3.0            1.6           0.2\n",
      "70             5.9           3.2            4.8           1.8\n",
      "121            5.6           2.8            4.9           2.0\n",
      "41             4.5           2.3            1.3           0.3\n",
      "50             7.0           3.2            4.7           1.4\n",
      "85             6.0           3.4            4.5           1.6\n",
      "47             4.6           3.2            1.4           0.2\n",
      "37             4.9           3.1            1.5           0.1\n",
      "113            5.7           2.5            5.0           2.0\n",
      "114            5.8           2.8            5.1           2.4\n",
      "144            6.7           3.3            5.7           2.5\n",
      "12             4.8           3.0            1.4           0.1\n",
      "45             4.8           3.0            1.4           0.3\n",
      "8              4.4           2.9            1.4           0.2\n",
      "80             5.5           2.4            3.8           1.1\n",
      "31             5.4           3.4            1.5           0.4\n",
      "99             5.7           2.8            4.1           1.3\n",
      "89             5.5           2.5            4.0           1.3\n",
      "60             5.0           2.0            3.5           1.0\n",
      "35             5.0           3.2            1.2           0.2\n",
      "96             5.7           2.9            4.2           1.3\n",
      "142            5.8           2.7            5.1           1.9\n",
      "72             6.3           2.5            4.9           1.5\n",
      "90             5.5           2.6            4.4           1.2\n",
      "94             5.6           2.7            4.2           1.3\n",
      "39         Iris-setosa\n",
      "139     Iris-virginica\n",
      "109     Iris-virginica\n",
      "22         Iris-setosa\n",
      "103     Iris-virginica\n",
      "75     Iris-versicolor\n",
      "49         Iris-setosa\n",
      "97     Iris-versicolor\n",
      "126     Iris-virginica\n",
      "29         Iris-setosa\n",
      "46         Iris-setosa\n",
      "87     Iris-versicolor\n",
      "54     Iris-versicolor\n",
      "4          Iris-setosa\n",
      "55     Iris-versicolor\n",
      "43         Iris-setosa\n",
      "127     Iris-virginica\n",
      "15         Iris-setosa\n",
      "115     Iris-virginica\n",
      "122     Iris-virginica\n",
      "25         Iris-setosa\n",
      "70     Iris-versicolor\n",
      "121     Iris-virginica\n",
      "41         Iris-setosa\n",
      "50     Iris-versicolor\n",
      "85     Iris-versicolor\n",
      "47         Iris-setosa\n",
      "37         Iris-setosa\n",
      "113     Iris-virginica\n",
      "114     Iris-virginica\n",
      "144     Iris-virginica\n",
      "12         Iris-setosa\n",
      "45         Iris-setosa\n",
      "8          Iris-setosa\n",
      "80     Iris-versicolor\n",
      "31         Iris-setosa\n",
      "99     Iris-versicolor\n",
      "89     Iris-versicolor\n",
      "60     Iris-versicolor\n",
      "35         Iris-setosa\n",
      "96     Iris-versicolor\n",
      "142     Iris-virginica\n",
      "72     Iris-versicolor\n",
      "90     Iris-versicolor\n",
      "94     Iris-versicolor\n",
      "Name: Species, dtype: object\n"
     ]
    }
   ],
   "source": [
    "# Where the data is split into training and testing data.  Change test_size variable to change the percentage\n",
    "# of all the data will be used for testing the model.  Typical test percentages range from 20% (0.2) to 40% (0.4)\n",
    "# but you may select any percentage from 1% (0.01) to 99% (0.99), though those aren't realistic and will \n",
    "# render fairly useless results.  The training data percentage is the remainder of the data; that is, is you\n",
    "# choose 30% (0.3) for testing, the model will be trained using 70% (0.7) of the data set.\n",
    "\n",
    "print(\"Split into train and test data...\")\n",
    "from sklearn.model_selection import train_test_split\n",
    "X_train,X_test,y_train,y_test = train_test_split(data_points, labels, test_size = 0.3)\n",
    "print(\"Train:\")\n",
    "print(X_train)\n",
    "print(y_train)\n",
    "print(\"Test:\")\n",
    "print(X_test)\n",
    "print(y_test)"
   ]
  },
  {
   "cell_type": "code",
   "execution_count": 6,
   "id": "64dcb3d7",
   "metadata": {},
   "outputs": [
    {
     "name": "stdout",
     "output_type": "stream",
     "text": [
      "Normalize and standardize\n",
      "Finished.\n"
     ]
    }
   ],
   "source": [
    "print(\"Normalize and standardize\")\n",
    "from sklearn.preprocessing import StandardScaler\n",
    "from sklearn.model_selection import cross_val_score\n",
    "Standard_obj = StandardScaler()\n",
    "Standard_obj.fit(X_train)\n",
    "X_train_std = Standard_obj.transform(X_train)\n",
    "X_test_std = Standard_obj.transform(X_test)\n",
    "print(\"Finished.\")"
   ]
  },
  {
   "cell_type": "code",
   "execution_count": 7,
   "id": "0419fcf1",
   "metadata": {},
   "outputs": [
    {
     "name": "stdout",
     "output_type": "stream",
     "text": [
      "Train the Random Forest with the training data.\n",
      "Process started...\n",
      "Process ended...\n",
      "Time to train model: 0.0627 seconds.\n"
     ]
    }
   ],
   "source": [
    "print(\"Train the Random Forest with the training data.\")\n",
    "\n",
    "starting_time = time.time()\n",
    "print(\"Process started...\")\n",
    "\n",
    "#Create a Gaussian Classifier\n",
    "clf=RandomForestClassifier(n_estimators=8, max_depth = 3)\n",
    "\n",
    "#Train the model using the training sets y_pred=clf.predict(X_test)\n",
    "clf.fit(X_train,y_train)\n",
    "\n",
    "y_pred=clf.predict(X_test)\n",
    "\n",
    "print(\"Process ended...\")\n",
    "ending_time = time.time()\n",
    "print('Time to train model: {:.4f}'.format(ending_time - starting_time),'seconds.')"
   ]
  },
  {
   "cell_type": "code",
   "execution_count": 8,
   "id": "6f4dcd13",
   "metadata": {},
   "outputs": [
    {
     "name": "stdout",
     "output_type": "stream",
     "text": [
      "Training data accuracy 97.14 %\n",
      "Testing data accuracy 97.78 %\n"
     ]
    }
   ],
   "source": [
    "# Model Accuracy, how often is the classifier correct?\n",
    "print('Training data accuracy {:.2f}'.format(clf.score(X_train, y_train)*100),'%')\n",
    "print('Testing data accuracy {:.2f}'.format(clf.score(X_test, y_test)*100),'%')"
   ]
  },
  {
   "cell_type": "code",
   "execution_count": null,
   "id": "f951cb6a",
   "metadata": {},
   "outputs": [],
   "source": [
    "#The End"
   ]
  },
  {
   "cell_type": "code",
   "execution_count": null,
   "id": "f3210317-ca43-4bc7-ac56-2d05c2882d6b",
   "metadata": {},
   "outputs": [],
   "source": []
  }
 ],
 "metadata": {
  "kernelspec": {
   "display_name": "Python 3 (ipykernel)",
   "language": "python",
   "name": "python3"
  },
  "language_info": {
   "codemirror_mode": {
    "name": "ipython",
    "version": 3
   },
   "file_extension": ".py",
   "mimetype": "text/x-python",
   "name": "python",
   "nbconvert_exporter": "python",
   "pygments_lexer": "ipython3",
   "version": "3.9.12"
  }
 },
 "nbformat": 4,
 "nbformat_minor": 5
}
